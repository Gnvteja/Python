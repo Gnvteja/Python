{
 "cells": [
  {
   "cell_type": "code",
   "execution_count": 2,
   "id": "5e8b378d-c0f8-4d2a-88b9-e314db89a075",
   "metadata": {},
   "outputs": [
    {
     "data": {
      "text/plain": [
       "2"
      ]
     },
     "execution_count": 2,
     "metadata": {},
     "output_type": "execute_result"
    }
   ],
   "source": [
    "1 + 1"
   ]
  },
  {
   "cell_type": "code",
   "execution_count": 4,
   "id": "5432a9a8-f2a2-41c6-82d3-a9c333b4f89e",
   "metadata": {},
   "outputs": [
    {
     "data": {
      "text/plain": [
       "0"
      ]
     },
     "execution_count": 4,
     "metadata": {},
     "output_type": "execute_result"
    }
   ],
   "source": [
    "1 - 1"
   ]
  },
  {
   "cell_type": "code",
   "execution_count": 6,
   "id": "8a5cdbf1-782c-46dd-b1d8-c2cfe8700eb0",
   "metadata": {},
   "outputs": [
    {
     "data": {
      "text/plain": [
       "5.0"
      ]
     },
     "execution_count": 6,
     "metadata": {},
     "output_type": "execute_result"
    }
   ],
   "source": [
    "10/2"
   ]
  },
  {
   "cell_type": "code",
   "execution_count": 8,
   "id": "9ac9acb9-a8a6-4421-b28b-190a0d7b51f6",
   "metadata": {},
   "outputs": [
    {
     "data": {
      "text/plain": [
       "3.3333333333333335"
      ]
     },
     "execution_count": 8,
     "metadata": {},
     "output_type": "execute_result"
    }
   ],
   "source": [
    "10/3"
   ]
  },
  {
   "cell_type": "code",
   "execution_count": 10,
   "id": "bce4596e-a80e-4cb1-a828-f8ba168d6f08",
   "metadata": {},
   "outputs": [
    {
     "data": {
      "text/plain": [
       "1"
      ]
     },
     "execution_count": 10,
     "metadata": {},
     "output_type": "execute_result"
    }
   ],
   "source": [
    "25 % 4"
   ]
  },
  {
   "cell_type": "code",
   "execution_count": 12,
   "id": "06c90149-78d2-47b2-be56-796e3b181f9c",
   "metadata": {},
   "outputs": [
    {
     "data": {
      "text/plain": [
       "64"
      ]
     },
     "execution_count": 12,
     "metadata": {},
     "output_type": "execute_result"
    }
   ],
   "source": [
    "2 ** 6"
   ]
  },
  {
   "cell_type": "code",
   "execution_count": 14,
   "id": "34f3da36-a729-4caa-be05-3c6ae227f27b",
   "metadata": {},
   "outputs": [
    {
     "data": {
      "text/plain": [
       "32"
      ]
     },
     "execution_count": 14,
     "metadata": {},
     "output_type": "execute_result"
    }
   ],
   "source": [
    "(2+6) * (1+3)"
   ]
  },
  {
   "cell_type": "code",
   "execution_count": 16,
   "id": "a57a4303-acac-46fa-b841-cf4d66c6a4cd",
   "metadata": {},
   "outputs": [],
   "source": [
    "a = 5"
   ]
  },
  {
   "cell_type": "code",
   "execution_count": 18,
   "id": "71d103e0-8d98-4c6a-a8bc-b64aae767e2f",
   "metadata": {},
   "outputs": [
    {
     "data": {
      "text/plain": [
       "5"
      ]
     },
     "execution_count": 18,
     "metadata": {},
     "output_type": "execute_result"
    }
   ],
   "source": [
    "a"
   ]
  },
  {
   "cell_type": "code",
   "execution_count": 20,
   "id": "d337b9be-2b7e-4df6-903d-9bd4a92331b9",
   "metadata": {},
   "outputs": [],
   "source": [
    "a = 10"
   ]
  },
  {
   "cell_type": "code",
   "execution_count": 22,
   "id": "831cf2d9-3936-4013-8d08-0ef64099a87b",
   "metadata": {},
   "outputs": [
    {
     "data": {
      "text/plain": [
       "10"
      ]
     },
     "execution_count": 22,
     "metadata": {},
     "output_type": "execute_result"
    }
   ],
   "source": [
    "a"
   ]
  },
  {
   "cell_type": "code",
   "execution_count": 24,
   "id": "e036eb1e-fc6a-4005-8e87-9e3748481e0b",
   "metadata": {},
   "outputs": [
    {
     "data": {
      "text/plain": [
       "20"
      ]
     },
     "execution_count": 24,
     "metadata": {},
     "output_type": "execute_result"
    }
   ],
   "source": [
    "a + a"
   ]
  },
  {
   "cell_type": "code",
   "execution_count": 26,
   "id": "2a2f0566-3bcf-4eac-9163-8057975b7133",
   "metadata": {},
   "outputs": [],
   "source": [
    "a = a + a"
   ]
  },
  {
   "cell_type": "code",
   "execution_count": 28,
   "id": "dfda3105-b6d9-49b5-986e-17bcf3d7b1ea",
   "metadata": {},
   "outputs": [
    {
     "data": {
      "text/plain": [
       "20"
      ]
     },
     "execution_count": 28,
     "metadata": {},
     "output_type": "execute_result"
    }
   ],
   "source": [
    "a"
   ]
  },
  {
   "cell_type": "code",
   "execution_count": 30,
   "id": "6dc8fda5-837c-4175-9d9d-e52d612bd9bd",
   "metadata": {},
   "outputs": [
    {
     "data": {
      "text/plain": [
       "int"
      ]
     },
     "execution_count": 30,
     "metadata": {},
     "output_type": "execute_result"
    }
   ],
   "source": [
    "type(a)"
   ]
  },
  {
   "cell_type": "code",
   "execution_count": 32,
   "id": "ec14680a-3989-49db-a4ba-8ca264678641",
   "metadata": {},
   "outputs": [],
   "source": [
    "a = 30.1"
   ]
  },
  {
   "cell_type": "code",
   "execution_count": 34,
   "id": "c5196bb5-88a0-4776-bbbc-72aa19ad7325",
   "metadata": {},
   "outputs": [
    {
     "data": {
      "text/plain": [
       "float"
      ]
     },
     "execution_count": 34,
     "metadata": {},
     "output_type": "execute_result"
    }
   ],
   "source": [
    "type(a)"
   ]
  },
  {
   "cell_type": "code",
   "execution_count": 36,
   "id": "9608a3e4-ed1b-41eb-bc69-061ccb8104a5",
   "metadata": {},
   "outputs": [
    {
     "data": {
      "text/plain": [
       "'hello'"
      ]
     },
     "execution_count": 36,
     "metadata": {},
     "output_type": "execute_result"
    }
   ],
   "source": [
    "\"hello\""
   ]
  },
  {
   "cell_type": "code",
   "execution_count": 38,
   "id": "02caac0f-4161-4366-9a01-9a2c6833d184",
   "metadata": {},
   "outputs": [
    {
     "data": {
      "text/plain": [
       "'hello world'"
      ]
     },
     "execution_count": 38,
     "metadata": {},
     "output_type": "execute_result"
    }
   ],
   "source": [
    "\"hello world\""
   ]
  },
  {
   "cell_type": "code",
   "execution_count": 40,
   "id": "721d2880-a72a-4d7a-9e18-35698d481729",
   "metadata": {},
   "outputs": [
    {
     "data": {
      "text/plain": [
       "'hello this is teja'"
      ]
     },
     "execution_count": 40,
     "metadata": {},
     "output_type": "execute_result"
    }
   ],
   "source": [
    "\"hello this is teja\""
   ]
  },
  {
   "cell_type": "code",
   "execution_count": 42,
   "id": "9c44ba54-74b7-47e2-b27b-6d986306b65f",
   "metadata": {},
   "outputs": [
    {
     "data": {
      "text/plain": [
       "'how are you guys'"
      ]
     },
     "execution_count": 42,
     "metadata": {},
     "output_type": "execute_result"
    }
   ],
   "source": [
    "\"how are you guys\""
   ]
  },
  {
   "cell_type": "code",
   "execution_count": 44,
   "id": "3ef0eddf-7f5d-4658-9524-8978f7562115",
   "metadata": {},
   "outputs": [
    {
     "ename": "SyntaxError",
     "evalue": "invalid syntax (1672426730.py, line 1)",
     "output_type": "error",
     "traceback": [
      "\u001b[0;36m  Cell \u001b[0;32mIn[44], line 1\u001b[0;36m\u001b[0m\n\u001b[0;31m    'not' a big problem\u001b[0m\n\u001b[0m          ^\u001b[0m\n\u001b[0;31mSyntaxError\u001b[0m\u001b[0;31m:\u001b[0m invalid syntax\n"
     ]
    }
   ],
   "source": [
    "'not' a big problem"
   ]
  },
  {
   "cell_type": "code",
   "execution_count": 46,
   "id": "9b424129-746f-419d-98c4-de15a64fb3e3",
   "metadata": {},
   "outputs": [
    {
     "data": {
      "text/plain": [
       "\"not' a big problem\""
      ]
     },
     "execution_count": 46,
     "metadata": {},
     "output_type": "execute_result"
    }
   ],
   "source": [
    "\"not' a big problem\""
   ]
  },
  {
   "cell_type": "code",
   "execution_count": 48,
   "id": "7571a98e-6c6d-4a96-8a73-c650ea5e9d3c",
   "metadata": {},
   "outputs": [
    {
     "name": "stdout",
     "output_type": "stream",
     "text": [
      "hello\n"
     ]
    }
   ],
   "source": [
    "print(\"hello\")"
   ]
  },
  {
   "cell_type": "code",
   "execution_count": 50,
   "id": "c4e9c42f-0994-4ff7-89db-6674d283e73a",
   "metadata": {},
   "outputs": [
    {
     "name": "stdout",
     "output_type": "stream",
     "text": [
      "hello world one\n"
     ]
    }
   ],
   "source": [
    "print(\"hello world one\")"
   ]
  },
  {
   "cell_type": "code",
   "execution_count": 52,
   "id": "a2ef668f-92bc-408b-9b72-f37f398e413e",
   "metadata": {},
   "outputs": [
    {
     "name": "stdout",
     "output_type": "stream",
     "text": [
      "hello world one\n",
      "hello world two\n"
     ]
    }
   ],
   "source": [
    "print(\"hello world one\")\n",
    "print(\"hello world two\")"
   ]
  },
  {
   "cell_type": "code",
   "execution_count": 54,
   "id": "144d4618-e910-45d4-8203-a076805bea99",
   "metadata": {},
   "outputs": [
    {
     "data": {
      "text/plain": [
       "5"
      ]
     },
     "execution_count": 54,
     "metadata": {},
     "output_type": "execute_result"
    }
   ],
   "source": [
    "len('hello')"
   ]
  },
  {
   "cell_type": "code",
   "execution_count": 56,
   "id": "770c619a-0907-4bb6-b024-86b49364890f",
   "metadata": {},
   "outputs": [
    {
     "data": {
      "text/plain": [
       "4"
      ]
     },
     "execution_count": 56,
     "metadata": {},
     "output_type": "execute_result"
    }
   ],
   "source": [
    "len('i am')"
   ]
  },
  {
   "cell_type": "code",
   "execution_count": 58,
   "id": "bc65a4c1-cec2-4a75-a711-d71b8825ace7",
   "metadata": {},
   "outputs": [],
   "source": [
    "mystring = \"hello world\""
   ]
  },
  {
   "cell_type": "code",
   "execution_count": 60,
   "id": "4a1eb05c-77fd-47e0-b19c-a63e5baf84b2",
   "metadata": {},
   "outputs": [
    {
     "data": {
      "text/plain": [
       "'h'"
      ]
     },
     "execution_count": 60,
     "metadata": {},
     "output_type": "execute_result"
    }
   ],
   "source": [
    "mystring[0]"
   ]
  },
  {
   "cell_type": "code",
   "execution_count": 62,
   "id": "e47f4e8b-e637-43bc-bfd1-0bf6f0daacf5",
   "metadata": {},
   "outputs": [
    {
     "data": {
      "text/plain": [
       "'r'"
      ]
     },
     "execution_count": 62,
     "metadata": {},
     "output_type": "execute_result"
    }
   ],
   "source": [
    "mystring[8]"
   ]
  },
  {
   "cell_type": "code",
   "execution_count": 64,
   "id": "46400519-31a9-4f59-b1d5-c6d25ff72214",
   "metadata": {},
   "outputs": [
    {
     "data": {
      "text/plain": [
       "'l'"
      ]
     },
     "execution_count": 64,
     "metadata": {},
     "output_type": "execute_result"
    }
   ],
   "source": [
    "mystring[9]"
   ]
  },
  {
   "cell_type": "code",
   "execution_count": 66,
   "id": "7e20c27e-2fd4-4063-a3c1-fc15ef14dc99",
   "metadata": {},
   "outputs": [
    {
     "data": {
      "text/plain": [
       "'l'"
      ]
     },
     "execution_count": 66,
     "metadata": {},
     "output_type": "execute_result"
    }
   ],
   "source": [
    "mystring[-2]"
   ]
  },
  {
   "cell_type": "code",
   "execution_count": 68,
   "id": "2831c38d-b6b6-4463-aca1-2427b7e46c8d",
   "metadata": {},
   "outputs": [],
   "source": [
    "mystring = 'abcdefghijk'"
   ]
  },
  {
   "cell_type": "code",
   "execution_count": 70,
   "id": "d8b1a010-e440-4dd9-b89b-76c7576daaa3",
   "metadata": {},
   "outputs": [
    {
     "data": {
      "text/plain": [
       "'abcdefghijk'"
      ]
     },
     "execution_count": 70,
     "metadata": {},
     "output_type": "execute_result"
    }
   ],
   "source": [
    "mystring"
   ]
  },
  {
   "cell_type": "code",
   "execution_count": 72,
   "id": "6c0d5f24-3d3c-4a3d-b97c-9f62af78de66",
   "metadata": {},
   "outputs": [
    {
     "data": {
      "text/plain": [
       "'c'"
      ]
     },
     "execution_count": 72,
     "metadata": {},
     "output_type": "execute_result"
    }
   ],
   "source": [
    "mystring[2]"
   ]
  },
  {
   "cell_type": "code",
   "execution_count": 74,
   "id": "0a6b58ef-4d91-4cd3-a37d-83aea1ad175c",
   "metadata": {},
   "outputs": [
    {
     "data": {
      "text/plain": [
       "'cdefghijk'"
      ]
     },
     "execution_count": 74,
     "metadata": {},
     "output_type": "execute_result"
    }
   ],
   "source": [
    "mystring[2:]"
   ]
  },
  {
   "cell_type": "code",
   "execution_count": 76,
   "id": "2e9ecff2-2a08-491e-87de-902983f0c811",
   "metadata": {},
   "outputs": [
    {
     "data": {
      "text/plain": [
       "'def'"
      ]
     },
     "execution_count": 76,
     "metadata": {},
     "output_type": "execute_result"
    }
   ],
   "source": [
    "mystring[3:6]"
   ]
  },
  {
   "cell_type": "code",
   "execution_count": 78,
   "id": "4b2ca9a1-4b60-4a65-b834-c32fab10b139",
   "metadata": {},
   "outputs": [
    {
     "ename": "NameError",
     "evalue": "name 'sam' is not defined",
     "output_type": "error",
     "traceback": [
      "\u001b[0;31m---------------------------------------------------------------------------\u001b[0m",
      "\u001b[0;31mNameError\u001b[0m                                 Traceback (most recent call last)",
      "Cell \u001b[0;32mIn[78], line 1\u001b[0m\n\u001b[0;32m----> 1\u001b[0m name \u001b[38;5;241m=\u001b[39m sam\n",
      "\u001b[0;31mNameError\u001b[0m: name 'sam' is not defined"
     ]
    }
   ],
   "source": [
    "name = sam"
   ]
  },
  {
   "cell_type": "code",
   "execution_count": 80,
   "id": "9d3c5de0-b6b8-47bb-90db-5e169617a4b3",
   "metadata": {},
   "outputs": [],
   "source": [
    "name = 'sam'"
   ]
  },
  {
   "cell_type": "code",
   "execution_count": 82,
   "id": "cf82ef28-2fec-41b4-9e2b-6740f7be36fb",
   "metadata": {},
   "outputs": [
    {
     "data": {
      "text/plain": [
       "'sam'"
      ]
     },
     "execution_count": 82,
     "metadata": {},
     "output_type": "execute_result"
    }
   ],
   "source": [
    "name"
   ]
  },
  {
   "cell_type": "code",
   "execution_count": 84,
   "id": "169fbecf-8799-44c2-a8af-2c2afe39e7ca",
   "metadata": {},
   "outputs": [],
   "source": [
    "last_letters = name[1:]"
   ]
  },
  {
   "cell_type": "code",
   "execution_count": 86,
   "id": "26d34b85-8061-4ca8-9cd5-bd417e79c8c2",
   "metadata": {},
   "outputs": [
    {
     "data": {
      "text/plain": [
       "'pam'"
      ]
     },
     "execution_count": 86,
     "metadata": {},
     "output_type": "execute_result"
    }
   ],
   "source": [
    "'p' + last_letters"
   ]
  },
  {
   "cell_type": "code",
   "execution_count": 88,
   "id": "17f0ee9f-40d6-4a51-a117-550b36ff2a67",
   "metadata": {},
   "outputs": [],
   "source": [
    "x = 'hello world'"
   ]
  },
  {
   "cell_type": "code",
   "execution_count": 90,
   "id": "ad41b092-45d5-41d8-84db-049f370bd925",
   "metadata": {},
   "outputs": [
    {
     "ename": "SyntaxError",
     "evalue": "invalid syntax (3906352149.py, line 1)",
     "output_type": "error",
     "traceback": [
      "\u001b[0;36m  Cell \u001b[0;32mIn[90], line 1\u001b[0;36m\u001b[0m\n\u001b[0;31m    x+\u001b[0m\n\u001b[0m      ^\u001b[0m\n\u001b[0;31mSyntaxError\u001b[0m\u001b[0;31m:\u001b[0m invalid syntax\n"
     ]
    }
   ],
   "source": [
    "x+"
   ]
  },
  {
   "cell_type": "code",
   "execution_count": 92,
   "id": "af6820f2-bdf3-40ca-acdc-7f80567f4ec1",
   "metadata": {},
   "outputs": [
    {
     "data": {
      "text/plain": [
       "'hello world it is beautiful outside'"
      ]
     },
     "execution_count": 92,
     "metadata": {},
     "output_type": "execute_result"
    }
   ],
   "source": [
    "x + ' it is beautiful outside'"
   ]
  },
  {
   "cell_type": "code",
   "execution_count": 94,
   "id": "10b77a15-d48e-45fe-a979-b6e9e80171af",
   "metadata": {},
   "outputs": [],
   "source": [
    "x = 'Hello World'"
   ]
  },
  {
   "cell_type": "code",
   "execution_count": 96,
   "id": "1625865a-146d-43c8-bf85-d4abac6d0733",
   "metadata": {},
   "outputs": [
    {
     "data": {
      "text/plain": [
       "<function str.upper()>"
      ]
     },
     "execution_count": 96,
     "metadata": {},
     "output_type": "execute_result"
    }
   ],
   "source": [
    "x.upper"
   ]
  },
  {
   "cell_type": "code",
   "execution_count": 98,
   "id": "4d799b1f-9704-4b86-b357-a3334ab71a6e",
   "metadata": {},
   "outputs": [
    {
     "data": {
      "text/plain": [
       "'HELLO WORLD'"
      ]
     },
     "execution_count": 98,
     "metadata": {},
     "output_type": "execute_result"
    }
   ],
   "source": [
    "x.upper()"
   ]
  },
  {
   "cell_type": "code",
   "execution_count": 100,
   "id": "fb622967-6d4c-4849-bb04-0ffe4f394959",
   "metadata": {},
   "outputs": [
    {
     "data": {
      "text/plain": [
       "'hello world'"
      ]
     },
     "execution_count": 100,
     "metadata": {},
     "output_type": "execute_result"
    }
   ],
   "source": [
    "x.lower()"
   ]
  },
  {
   "cell_type": "code",
   "execution_count": 102,
   "id": "17fb1412-3b6c-4972-a068-982855476457",
   "metadata": {},
   "outputs": [
    {
     "data": {
      "text/plain": [
       "['Hello', 'World']"
      ]
     },
     "execution_count": 102,
     "metadata": {},
     "output_type": "execute_result"
    }
   ],
   "source": [
    "x.split()"
   ]
  },
  {
   "cell_type": "code",
   "execution_count": 104,
   "id": "7dffd219-fdc1-4cc0-947e-cddbd7911f73",
   "metadata": {},
   "outputs": [],
   "source": [
    "x = 'This is a string'"
   ]
  },
  {
   "cell_type": "code",
   "execution_count": 106,
   "id": "e9112748-88ed-4ab3-931e-da2f6e2d1cf0",
   "metadata": {},
   "outputs": [
    {
     "data": {
      "text/plain": [
       "['Th', 's ', 's a str', 'ng']"
      ]
     },
     "execution_count": 106,
     "metadata": {},
     "output_type": "execute_result"
    }
   ],
   "source": [
    "x.split('i')"
   ]
  },
  {
   "cell_type": "code",
   "execution_count": 108,
   "id": "1a586547-aee6-4f5c-9135-2c309b355b42",
   "metadata": {},
   "outputs": [
    {
     "data": {
      "text/plain": [
       "['This', 'is', 'a', 'string']"
      ]
     },
     "execution_count": 108,
     "metadata": {},
     "output_type": "execute_result"
    }
   ],
   "source": [
    "x.split()"
   ]
  },
  {
   "cell_type": "code",
   "execution_count": 110,
   "id": "4bf5852a-3ce7-4618-bebd-fdc87d24239f",
   "metadata": {},
   "outputs": [
    {
     "name": "stdout",
     "output_type": "stream",
     "text": [
      "hello world\n"
     ]
    }
   ],
   "source": [
    "print('hello world')"
   ]
  },
  {
   "cell_type": "code",
   "execution_count": 112,
   "id": "fe34e9d3-d978-4de9-89a2-87432f987f6d",
   "metadata": {},
   "outputs": [
    {
     "name": "stdout",
     "output_type": "stream",
     "text": [
      "this is a stringINSERTED\n"
     ]
    }
   ],
   "source": [
    "print('this is a string{}'.format('INSERTED'))"
   ]
  },
  {
   "cell_type": "code",
   "execution_count": 114,
   "id": "d16ea8e5-641e-4e1c-a5cc-b8144330c887",
   "metadata": {},
   "outputs": [
    {
     "name": "stdout",
     "output_type": "stream",
     "text": [
      "this is a string INSERTED\n"
     ]
    }
   ],
   "source": [
    "print('this is a string {}'.format('INSERTED'))"
   ]
  },
  {
   "cell_type": "code",
   "execution_count": 116,
   "id": "05fe7f32-5f5b-4588-aaf4-cacc8fbb494f",
   "metadata": {},
   "outputs": [
    {
     "name": "stdout",
     "output_type": "stream",
     "text": [
      "this fox brown quick\n"
     ]
    }
   ],
   "source": [
    "print('this {} {} {}'.format('fox', 'brown', 'quick'))"
   ]
  },
  {
   "cell_type": "code",
   "execution_count": 118,
   "id": "f433d1ea-b655-497d-93af-7d3409a0787b",
   "metadata": {},
   "outputs": [
    {
     "ename": "IndexError",
     "evalue": "Replacement index 3 out of range for positional args tuple",
     "output_type": "error",
     "traceback": [
      "\u001b[0;31m---------------------------------------------------------------------------\u001b[0m",
      "\u001b[0;31mIndexError\u001b[0m                                Traceback (most recent call last)",
      "Cell \u001b[0;32mIn[118], line 1\u001b[0m\n\u001b[0;32m----> 1\u001b[0m \u001b[38;5;28mprint\u001b[39m(\u001b[38;5;124m'\u001b[39m\u001b[38;5;124mthis \u001b[39m\u001b[38;5;132;01m{3}\u001b[39;00m\u001b[38;5;124m \u001b[39m\u001b[38;5;132;01m{2}\u001b[39;00m\u001b[38;5;124m \u001b[39m\u001b[38;5;132;01m{1}\u001b[39;00m\u001b[38;5;124m'\u001b[39m\u001b[38;5;241m.\u001b[39mformat(\u001b[38;5;124m'\u001b[39m\u001b[38;5;124mfox\u001b[39m\u001b[38;5;124m'\u001b[39m, \u001b[38;5;124m'\u001b[39m\u001b[38;5;124mbrown\u001b[39m\u001b[38;5;124m'\u001b[39m, \u001b[38;5;124m'\u001b[39m\u001b[38;5;124mquick\u001b[39m\u001b[38;5;124m'\u001b[39m))\n",
      "\u001b[0;31mIndexError\u001b[0m: Replacement index 3 out of range for positional args tuple"
     ]
    }
   ],
   "source": [
    "print('this {3} {2} {1}'.format('fox', 'brown', 'quick'))"
   ]
  },
  {
   "cell_type": "code",
   "execution_count": 120,
   "id": "5cd53d21-037b-4b4c-a08e-acad2dc4bd72",
   "metadata": {},
   "outputs": [
    {
     "name": "stdout",
     "output_type": "stream",
     "text": [
      "this quick fox brown\n"
     ]
    }
   ],
   "source": [
    "print('this {2} {0} {1}'.format('fox', 'brown', 'quick'))"
   ]
  },
  {
   "cell_type": "code",
   "execution_count": 3,
   "id": "bbb891a9-e256-4b65-a652-6753415b1e53",
   "metadata": {},
   "outputs": [
    {
     "ename": "NameError",
     "evalue": "name 'one' is not defined",
     "output_type": "error",
     "traceback": [
      "\u001b[0;31m---------------------------------------------------------------------------\u001b[0m",
      "\u001b[0;31mNameError\u001b[0m                                 Traceback (most recent call last)",
      "Cell \u001b[0;32mIn[3], line 1\u001b[0m\n\u001b[0;32m----> 1\u001b[0m mylist \u001b[38;5;241m=\u001b[39m [one,two,three]\n",
      "\u001b[0;31mNameError\u001b[0m: name 'one' is not defined"
     ]
    }
   ],
   "source": [
    "mylist = [one,two,three]"
   ]
  },
  {
   "cell_type": "code",
   "execution_count": 5,
   "id": "3f82daeb-d108-4dea-b5b3-6ef2f520b489",
   "metadata": {},
   "outputs": [],
   "source": [
    "mylist = ['one','two','three']"
   ]
  },
  {
   "cell_type": "code",
   "execution_count": 7,
   "id": "624a08a5-aa5d-4c8b-8dcd-9991e9778792",
   "metadata": {},
   "outputs": [],
   "source": [
    "anotherlist = ['four','five']"
   ]
  },
  {
   "cell_type": "code",
   "execution_count": 9,
   "id": "9dd8bf55-d4cf-462e-b987-765695869f5f",
   "metadata": {},
   "outputs": [],
   "source": [
    "new_list = mylist + anotherlist"
   ]
  },
  {
   "cell_type": "code",
   "execution_count": 11,
   "id": "9d93e3a6-dc6e-4c6c-8352-ea0ce55de124",
   "metadata": {},
   "outputs": [
    {
     "data": {
      "text/plain": [
       "['one', 'two', 'three', 'four', 'five']"
      ]
     },
     "execution_count": 11,
     "metadata": {},
     "output_type": "execute_result"
    }
   ],
   "source": [
    "new_list"
   ]
  },
  {
   "cell_type": "code",
   "execution_count": 13,
   "id": "5e6628a0-493a-45df-a926-e679c48b2863",
   "metadata": {},
   "outputs": [
    {
     "data": {
      "text/plain": [
       "['four', 'five', 'one', 'two', 'three']"
      ]
     },
     "execution_count": 13,
     "metadata": {},
     "output_type": "execute_result"
    }
   ],
   "source": [
    "anotherlist + mylist"
   ]
  },
  {
   "cell_type": "code",
   "execution_count": 15,
   "id": "a32764e4-9048-4ea6-80f1-80988da0cbea",
   "metadata": {},
   "outputs": [
    {
     "data": {
      "text/plain": [
       "'one'"
      ]
     },
     "execution_count": 15,
     "metadata": {},
     "output_type": "execute_result"
    }
   ],
   "source": [
    "mylist[0]"
   ]
  },
  {
   "cell_type": "code",
   "execution_count": 17,
   "id": "4a387d03-7da4-4449-82ad-631cbc577fef",
   "metadata": {},
   "outputs": [
    {
     "data": {
      "text/plain": [
       "'three'"
      ]
     },
     "execution_count": 17,
     "metadata": {},
     "output_type": "execute_result"
    }
   ],
   "source": [
    "mylist[2]"
   ]
  },
  {
   "cell_type": "code",
   "execution_count": 19,
   "id": "ab681f13-db5d-4104-9965-05e1266cdc95",
   "metadata": {},
   "outputs": [
    {
     "data": {
      "text/plain": [
       "'two'"
      ]
     },
     "execution_count": 19,
     "metadata": {},
     "output_type": "execute_result"
    }
   ],
   "source": [
    "mylist[1]"
   ]
  },
  {
   "cell_type": "code",
   "execution_count": 21,
   "id": "fbb61cc0-9c0c-4622-a886-1a6962f985fd",
   "metadata": {},
   "outputs": [
    {
     "data": {
      "text/plain": [
       "['two', 'three']"
      ]
     },
     "execution_count": 21,
     "metadata": {},
     "output_type": "execute_result"
    }
   ],
   "source": [
    "mylist[1:]"
   ]
  },
  {
   "cell_type": "code",
   "execution_count": 23,
   "id": "81cc3a61-38bf-45c5-a302-782c56000138",
   "metadata": {},
   "outputs": [
    {
     "ename": "NameError",
     "evalue": "name 'sevenn' is not defined",
     "output_type": "error",
     "traceback": [
      "\u001b[0;31m---------------------------------------------------------------------------\u001b[0m",
      "\u001b[0;31mNameError\u001b[0m                                 Traceback (most recent call last)",
      "Cell \u001b[0;32mIn[23], line 1\u001b[0m\n\u001b[0;32m----> 1\u001b[0m new_list\u001b[38;5;241m.\u001b[39mappend(sevenn)\n",
      "\u001b[0;31mNameError\u001b[0m: name 'sevenn' is not defined"
     ]
    }
   ],
   "source": [
    "new_list.append(sevenn)"
   ]
  },
  {
   "cell_type": "code",
   "execution_count": 25,
   "id": "f2a33f04-e069-4e56-9ee6-f2171b779d57",
   "metadata": {},
   "outputs": [],
   "source": [
    "new_list.append('seven')"
   ]
  },
  {
   "cell_type": "code",
   "execution_count": 27,
   "id": "7a50115e-6404-453e-8400-31bc85265cde",
   "metadata": {},
   "outputs": [
    {
     "data": {
      "text/plain": [
       "['one', 'two', 'three', 'four', 'five', 'seven']"
      ]
     },
     "execution_count": 27,
     "metadata": {},
     "output_type": "execute_result"
    }
   ],
   "source": [
    "new_list"
   ]
  },
  {
   "cell_type": "code",
   "execution_count": 29,
   "id": "d9f90809-1353-4539-b30d-d147adf2ca34",
   "metadata": {},
   "outputs": [],
   "source": [
    "new_list.append('six')"
   ]
  },
  {
   "cell_type": "code",
   "execution_count": 31,
   "id": "16d1e6f7-4ffc-4833-be82-73a8800ad059",
   "metadata": {},
   "outputs": [
    {
     "data": {
      "text/plain": [
       "['one', 'two', 'three', 'four', 'five', 'seven', 'six']"
      ]
     },
     "execution_count": 31,
     "metadata": {},
     "output_type": "execute_result"
    }
   ],
   "source": [
    "new_list"
   ]
  },
  {
   "cell_type": "code",
   "execution_count": 33,
   "id": "dfc756a1-cdf1-490f-9d04-e1b320d06808",
   "metadata": {},
   "outputs": [
    {
     "data": {
      "text/plain": [
       "<function list.pop(index=-1, /)>"
      ]
     },
     "execution_count": 33,
     "metadata": {},
     "output_type": "execute_result"
    }
   ],
   "source": [
    "new_list.pop"
   ]
  },
  {
   "cell_type": "code",
   "execution_count": 35,
   "id": "2b3ecaec-1cce-4800-abd3-e521228a90b1",
   "metadata": {},
   "outputs": [
    {
     "data": {
      "text/plain": [
       "'six'"
      ]
     },
     "execution_count": 35,
     "metadata": {},
     "output_type": "execute_result"
    }
   ],
   "source": [
    "new_list.pop()"
   ]
  },
  {
   "cell_type": "code",
   "execution_count": 37,
   "id": "3e709b96-f326-47b7-adb7-0d284c0dd837",
   "metadata": {},
   "outputs": [
    {
     "data": {
      "text/plain": [
       "['one', 'two', 'three', 'four', 'five', 'seven']"
      ]
     },
     "execution_count": 37,
     "metadata": {},
     "output_type": "execute_result"
    }
   ],
   "source": [
    "new_list"
   ]
  },
  {
   "cell_type": "code",
   "execution_count": 39,
   "id": "754a0221-6a09-421b-a308-bcd80089d973",
   "metadata": {},
   "outputs": [],
   "source": [
    "popped_item = new_list.pop()"
   ]
  },
  {
   "cell_type": "code",
   "execution_count": 41,
   "id": "36927419-d634-403a-b861-19a0dbef54c8",
   "metadata": {},
   "outputs": [
    {
     "data": {
      "text/plain": [
       "'seven'"
      ]
     },
     "execution_count": 41,
     "metadata": {},
     "output_type": "execute_result"
    }
   ],
   "source": [
    "popped_item"
   ]
  },
  {
   "cell_type": "code",
   "execution_count": 43,
   "id": "8a977514-e8b0-48cf-a985-5bbe8b0d15b4",
   "metadata": {},
   "outputs": [],
   "source": [
    "popped_item = new_list.pop(0)"
   ]
  },
  {
   "cell_type": "code",
   "execution_count": 45,
   "id": "6ffebb4d-d3cc-4b88-942b-db0d22879b75",
   "metadata": {},
   "outputs": [
    {
     "data": {
      "text/plain": [
       "'one'"
      ]
     },
     "execution_count": 45,
     "metadata": {},
     "output_type": "execute_result"
    }
   ],
   "source": [
    "popped_item"
   ]
  },
  {
   "cell_type": "code",
   "execution_count": 59,
   "id": "dab3ca93-8ecf-4c47-b573-fc0b3ade8162",
   "metadata": {},
   "outputs": [
    {
     "data": {
      "text/plain": [
       "'A'"
      ]
     },
     "execution_count": 59,
     "metadata": {},
     "output_type": "execute_result"
    }
   ],
   "source": [
    "d['teja']"
   ]
  },
  {
   "cell_type": "code",
   "execution_count": 61,
   "id": "bbb04176-34e2-4bbf-a812-a2624ef5a14e",
   "metadata": {},
   "outputs": [
    {
     "data": {
      "text/plain": [
       "'a'"
      ]
     },
     "execution_count": 61,
     "metadata": {},
     "output_type": "execute_result"
    }
   ],
   "source": [
    "d['teja'].lower()"
   ]
  },
  {
   "cell_type": "code",
   "execution_count": 63,
   "id": "3475d99c-d98c-4727-895e-038b09bdc4ab",
   "metadata": {},
   "outputs": [],
   "source": [
    "d = {'A1' :'10', 'A2' :'20', 'A3' :'30'}"
   ]
  },
  {
   "cell_type": "code",
   "execution_count": 65,
   "id": "6b7e862f-7852-4d51-92a2-14a1a862bf52",
   "metadata": {},
   "outputs": [
    {
     "ename": "NameError",
     "evalue": "name 'D' is not defined",
     "output_type": "error",
     "traceback": [
      "\u001b[0;31m---------------------------------------------------------------------------\u001b[0m",
      "\u001b[0;31mNameError\u001b[0m                                 Traceback (most recent call last)",
      "Cell \u001b[0;32mIn[65], line 1\u001b[0m\n\u001b[0;32m----> 1\u001b[0m D[\u001b[38;5;124m'\u001b[39m\u001b[38;5;124mK4\u001b[39m\u001b[38;5;124m'\u001b[39m] \u001b[38;5;241m=\u001b[39m \u001b[38;5;241m40\u001b[39m\n",
      "\u001b[0;31mNameError\u001b[0m: name 'D' is not defined"
     ]
    }
   ],
   "source": [
    "D['K4'] = 40"
   ]
  },
  {
   "cell_type": "code",
   "execution_count": 67,
   "id": "4284ee7f-986c-4fdb-bb71-2b73803c0fe4",
   "metadata": {},
   "outputs": [],
   "source": [
    "d['K4'] = 40"
   ]
  },
  {
   "cell_type": "code",
   "execution_count": 69,
   "id": "7581f481-4010-4e29-99e4-385cd7e5e4f7",
   "metadata": {},
   "outputs": [
    {
     "data": {
      "text/plain": [
       "{'A1': '10', 'A2': '20', 'A3': '30', 'K4': 40}"
      ]
     },
     "execution_count": 69,
     "metadata": {},
     "output_type": "execute_result"
    }
   ],
   "source": [
    "d"
   ]
  },
  {
   "cell_type": "code",
   "execution_count": 71,
   "id": "f8dffd4d-8ab0-490d-a25f-dd32c75973a7",
   "metadata": {},
   "outputs": [
    {
     "data": {
      "text/plain": [
       "dict_keys(['A1', 'A2', 'A3', 'K4'])"
      ]
     },
     "execution_count": 71,
     "metadata": {},
     "output_type": "execute_result"
    }
   ],
   "source": [
    "d.keys()"
   ]
  },
  {
   "cell_type": "code",
   "execution_count": 73,
   "id": "ef29e141-09d4-4743-a172-00119714978b",
   "metadata": {},
   "outputs": [
    {
     "data": {
      "text/plain": [
       "dict_values(['10', '20', '30', 40])"
      ]
     },
     "execution_count": 73,
     "metadata": {},
     "output_type": "execute_result"
    }
   ],
   "source": [
    "d.values()"
   ]
  },
  {
   "cell_type": "code",
   "execution_count": 75,
   "id": "8180b3a6-66a1-4401-8cc3-280d5eeaee5f",
   "metadata": {},
   "outputs": [
    {
     "ename": "AttributeError",
     "evalue": "'dict' object has no attribute 'itesm'",
     "output_type": "error",
     "traceback": [
      "\u001b[0;31m---------------------------------------------------------------------------\u001b[0m",
      "\u001b[0;31mAttributeError\u001b[0m                            Traceback (most recent call last)",
      "Cell \u001b[0;32mIn[75], line 1\u001b[0m\n\u001b[0;32m----> 1\u001b[0m d\u001b[38;5;241m.\u001b[39mitesm()\n",
      "\u001b[0;31mAttributeError\u001b[0m: 'dict' object has no attribute 'itesm'"
     ]
    }
   ],
   "source": [
    "d.itesm()"
   ]
  },
  {
   "cell_type": "code",
   "execution_count": 77,
   "id": "f2c4efe6-aa41-4b56-9eaa-1783288276ec",
   "metadata": {},
   "outputs": [
    {
     "data": {
      "text/plain": [
       "dict_items([('A1', '10'), ('A2', '20'), ('A3', '30'), ('K4', 40)])"
      ]
     },
     "execution_count": 77,
     "metadata": {},
     "output_type": "execute_result"
    }
   ],
   "source": [
    "d.items()"
   ]
  },
  {
   "cell_type": "code",
   "execution_count": 79,
   "id": "2fab07c8-1b74-489b-bf9e-171de6f54cd2",
   "metadata": {},
   "outputs": [],
   "source": [
    "t =(4,5,6)"
   ]
  },
  {
   "cell_type": "code",
   "execution_count": 81,
   "id": "63152358-7cc2-4ed2-a43a-833b6da9947f",
   "metadata": {},
   "outputs": [
    {
     "data": {
      "text/plain": [
       "tuple"
      ]
     },
     "execution_count": 81,
     "metadata": {},
     "output_type": "execute_result"
    }
   ],
   "source": [
    "type(t)"
   ]
  },
  {
   "cell_type": "code",
   "execution_count": 83,
   "id": "75063bfb-eb1f-403b-9f9e-41c4dfbd10bc",
   "metadata": {},
   "outputs": [],
   "source": [
    "I = [7,8,9]"
   ]
  },
  {
   "cell_type": "code",
   "execution_count": 85,
   "id": "cc8175dd-e250-4c6f-9915-dcae89f9064c",
   "metadata": {},
   "outputs": [
    {
     "ename": "NameError",
     "evalue": "name 'typr' is not defined",
     "output_type": "error",
     "traceback": [
      "\u001b[0;31m---------------------------------------------------------------------------\u001b[0m",
      "\u001b[0;31mNameError\u001b[0m                                 Traceback (most recent call last)",
      "Cell \u001b[0;32mIn[85], line 1\u001b[0m\n\u001b[0;32m----> 1\u001b[0m typr(I)\n",
      "\u001b[0;31mNameError\u001b[0m: name 'typr' is not defined"
     ]
    }
   ],
   "source": [
    "typr(I)"
   ]
  },
  {
   "cell_type": "code",
   "execution_count": 87,
   "id": "7a48bef3-33e5-4d4c-bf07-28864722bd28",
   "metadata": {},
   "outputs": [
    {
     "data": {
      "text/plain": [
       "list"
      ]
     },
     "execution_count": 87,
     "metadata": {},
     "output_type": "execute_result"
    }
   ],
   "source": [
    "type(I)"
   ]
  },
  {
   "cell_type": "code",
   "execution_count": 89,
   "id": "e3522fd3-a484-4a91-8bcf-2e323f927cb9",
   "metadata": {},
   "outputs": [
    {
     "ename": "SyntaxError",
     "evalue": "unterminated string literal (detected at line 1) (1579516166.py, line 1)",
     "output_type": "error",
     "traceback": [
      "\u001b[0;36m  Cell \u001b[0;32mIn[89], line 1\u001b[0;36m\u001b[0m\n\u001b[0;31m    t = ('b,'b','c')\u001b[0m\n\u001b[0m                  ^\u001b[0m\n\u001b[0;31mSyntaxError\u001b[0m\u001b[0;31m:\u001b[0m unterminated string literal (detected at line 1)\n"
     ]
    }
   ],
   "source": [
    "t = ('b,'b','c')"
   ]
  },
  {
   "cell_type": "code",
   "execution_count": 91,
   "id": "5d02578e-a2e0-45cb-a661-baf92b9ea514",
   "metadata": {},
   "outputs": [],
   "source": [
    "t = ('b','b','c')"
   ]
  },
  {
   "cell_type": "code",
   "execution_count": 93,
   "id": "c8832e78-c771-4425-8b2e-2ca0806c932e",
   "metadata": {},
   "outputs": [
    {
     "data": {
      "text/plain": [
       "tuple"
      ]
     },
     "execution_count": 93,
     "metadata": {},
     "output_type": "execute_result"
    }
   ],
   "source": [
    "type(t)"
   ]
  },
  {
   "cell_type": "code",
   "execution_count": 95,
   "id": "3c62b7cf-5280-47f4-a057-4a6620b78b13",
   "metadata": {},
   "outputs": [
    {
     "ename": "NameError",
     "evalue": "name 'a' is not defined",
     "output_type": "error",
     "traceback": [
      "\u001b[0;31m---------------------------------------------------------------------------\u001b[0m",
      "\u001b[0;31mNameError\u001b[0m                                 Traceback (most recent call last)",
      "Cell \u001b[0;32mIn[95], line 1\u001b[0m\n\u001b[0;32m----> 1\u001b[0m t\u001b[38;5;241m.\u001b[39mcount(a)\n",
      "\u001b[0;31mNameError\u001b[0m: name 'a' is not defined"
     ]
    }
   ],
   "source": [
    "t.count(a)"
   ]
  },
  {
   "cell_type": "code",
   "execution_count": 97,
   "id": "1701e131-247a-4db6-b8b6-329435b8353a",
   "metadata": {},
   "outputs": [
    {
     "data": {
      "text/plain": [
       "0"
      ]
     },
     "execution_count": 97,
     "metadata": {},
     "output_type": "execute_result"
    }
   ],
   "source": [
    "t.count(t)"
   ]
  },
  {
   "cell_type": "code",
   "execution_count": 99,
   "id": "e42cc38f-9db8-4fec-93fb-6a84d61300df",
   "metadata": {},
   "outputs": [
    {
     "data": {
      "text/plain": [
       "0"
      ]
     },
     "execution_count": 99,
     "metadata": {},
     "output_type": "execute_result"
    }
   ],
   "source": [
    "t.count('a')"
   ]
  },
  {
   "cell_type": "code",
   "execution_count": 101,
   "id": "3c785223-732d-4435-9ccc-8f6c79aecdf2",
   "metadata": {},
   "outputs": [
    {
     "data": {
      "text/plain": [
       "2"
      ]
     },
     "execution_count": 101,
     "metadata": {},
     "output_type": "execute_result"
    }
   ],
   "source": [
    "t.count('b')"
   ]
  },
  {
   "cell_type": "code",
   "execution_count": 103,
   "id": "9059f41f-6686-42e6-884a-585a3b94749e",
   "metadata": {},
   "outputs": [
    {
     "ename": "ValueError",
     "evalue": "tuple.index(x): x not in tuple",
     "output_type": "error",
     "traceback": [
      "\u001b[0;31m---------------------------------------------------------------------------\u001b[0m",
      "\u001b[0;31mValueError\u001b[0m                                Traceback (most recent call last)",
      "Cell \u001b[0;32mIn[103], line 1\u001b[0m\n\u001b[0;32m----> 1\u001b[0m t\u001b[38;5;241m.\u001b[39mindex(\u001b[38;5;124m'\u001b[39m\u001b[38;5;124ma\u001b[39m\u001b[38;5;124m'\u001b[39m)\n",
      "\u001b[0;31mValueError\u001b[0m: tuple.index(x): x not in tuple"
     ]
    }
   ],
   "source": [
    "t.index('a')"
   ]
  },
  {
   "cell_type": "code",
   "execution_count": 105,
   "id": "ba2471b0-6add-4511-96f1-a1c8a133ebc1",
   "metadata": {},
   "outputs": [
    {
     "data": {
      "text/plain": [
       "0"
      ]
     },
     "execution_count": 105,
     "metadata": {},
     "output_type": "execute_result"
    }
   ],
   "source": [
    "t.index('b')"
   ]
  },
  {
   "cell_type": "code",
   "execution_count": 107,
   "id": "3f995a61-a014-4753-814f-a7084c6393b2",
   "metadata": {},
   "outputs": [
    {
     "data": {
      "text/plain": [
       "('b', 'b', 'c')"
      ]
     },
     "execution_count": 107,
     "metadata": {},
     "output_type": "execute_result"
    }
   ],
   "source": [
    "t"
   ]
  },
  {
   "cell_type": "code",
   "execution_count": 109,
   "id": "496e6223-08dd-43dd-8404-c444f33c8563",
   "metadata": {},
   "outputs": [],
   "source": [
    "myset = [2,2,2,2,25,5,5,5,6,7]"
   ]
  },
  {
   "cell_type": "code",
   "execution_count": 111,
   "id": "73de3817-ea3b-4f23-8d67-cbced6ca1954",
   "metadata": {},
   "outputs": [
    {
     "data": {
      "text/plain": [
       "{2, 5, 6, 7, 25}"
      ]
     },
     "execution_count": 111,
     "metadata": {},
     "output_type": "execute_result"
    }
   ],
   "source": [
    "set(myset)"
   ]
  },
  {
   "cell_type": "code",
   "execution_count": 113,
   "id": "6f01deb7-0a61-45c4-b1ff-5296eeaf0c87",
   "metadata": {},
   "outputs": [
    {
     "data": {
      "text/plain": [
       "False"
      ]
     },
     "execution_count": 113,
     "metadata": {},
     "output_type": "execute_result"
    }
   ],
   "source": [
    "False"
   ]
  },
  {
   "cell_type": "code",
   "execution_count": 115,
   "id": "d77fe335-5ca2-4a48-be93-6ba02dd0f07c",
   "metadata": {},
   "outputs": [
    {
     "ename": "NameError",
     "evalue": "name 'fype' is not defined",
     "output_type": "error",
     "traceback": [
      "\u001b[0;31m---------------------------------------------------------------------------\u001b[0m",
      "\u001b[0;31mNameError\u001b[0m                                 Traceback (most recent call last)",
      "Cell \u001b[0;32mIn[115], line 1\u001b[0m\n\u001b[0;32m----> 1\u001b[0m fype(\u001b[38;5;28;01mFalse\u001b[39;00m)\n",
      "\u001b[0;31mNameError\u001b[0m: name 'fype' is not defined"
     ]
    }
   ],
   "source": [
    "fype(False)"
   ]
  },
  {
   "cell_type": "code",
   "execution_count": 117,
   "id": "36d3e7e4-3357-437f-ba2f-d733dbedfdf8",
   "metadata": {},
   "outputs": [
    {
     "data": {
      "text/plain": [
       "bool"
      ]
     },
     "execution_count": 117,
     "metadata": {},
     "output_type": "execute_result"
    }
   ],
   "source": [
    "type(False)"
   ]
  },
  {
   "cell_type": "code",
   "execution_count": 119,
   "id": "5b926bdd-23e2-4f36-9bdf-ce4fb0cf28b5",
   "metadata": {},
   "outputs": [
    {
     "data": {
      "text/plain": [
       "False"
      ]
     },
     "execution_count": 119,
     "metadata": {},
     "output_type": "execute_result"
    }
   ],
   "source": [
    "1 > 2"
   ]
  },
  {
   "cell_type": "code",
   "execution_count": 121,
   "id": "8f1fb07e-8d5d-411f-94c2-0211b46e0db7",
   "metadata": {},
   "outputs": [
    {
     "data": {
      "text/plain": [
       "True"
      ]
     },
     "execution_count": 121,
     "metadata": {},
     "output_type": "execute_result"
    }
   ],
   "source": [
    "1 == 1"
   ]
  },
  {
   "cell_type": "code",
   "execution_count": 123,
   "id": "dc92d301-e0ff-4827-a011-85dc387d898a",
   "metadata": {},
   "outputs": [
    {
     "data": {
      "text/plain": [
       "True"
      ]
     },
     "execution_count": 123,
     "metadata": {},
     "output_type": "execute_result"
    }
   ],
   "source": [
    "2 == 2"
   ]
  },
  {
   "cell_type": "code",
   "execution_count": 125,
   "id": "d7fdad67-4492-4185-ba5e-3dee71c15bf7",
   "metadata": {},
   "outputs": [
    {
     "data": {
      "text/plain": [
       "44"
      ]
     },
     "execution_count": 125,
     "metadata": {},
     "output_type": "execute_result"
    }
   ],
   "source": [
    "4 * (6+5)"
   ]
  },
  {
   "cell_type": "code",
   "execution_count": 127,
   "id": "e009ba89-9389-43ff-83c9-1a3874cb55d3",
   "metadata": {},
   "outputs": [
    {
     "data": {
      "text/plain": [
       "29"
      ]
     },
     "execution_count": 127,
     "metadata": {},
     "output_type": "execute_result"
    }
   ],
   "source": [
    "4 *6+5"
   ]
  },
  {
   "cell_type": "code",
   "execution_count": 129,
   "id": "4ee1096a-4943-4238-ad1f-ee7ede637587",
   "metadata": {},
   "outputs": [
    {
     "data": {
      "text/plain": [
       "34"
      ]
     },
     "execution_count": 129,
     "metadata": {},
     "output_type": "execute_result"
    }
   ],
   "source": [
    "4+6*5"
   ]
  },
  {
   "cell_type": "code",
   "execution_count": 131,
   "id": "299a915b-2d97-447a-b32b-dae4a5f541ac",
   "metadata": {},
   "outputs": [],
   "source": [
    "s = 'Hello'"
   ]
  },
  {
   "cell_type": "code",
   "execution_count": 133,
   "id": "ee4f4a13-d407-4cb1-ba22-e0d5f9a34ca8",
   "metadata": {},
   "outputs": [
    {
     "ename": "TypeError",
     "evalue": "'str' object is not callable",
     "output_type": "error",
     "traceback": [
      "\u001b[0;31m---------------------------------------------------------------------------\u001b[0m",
      "\u001b[0;31mTypeError\u001b[0m                                 Traceback (most recent call last)",
      "Cell \u001b[0;32mIn[133], line 1\u001b[0m\n\u001b[0;32m----> 1\u001b[0m s(\u001b[38;5;241m1\u001b[39m)\n",
      "\u001b[0;31mTypeError\u001b[0m: 'str' object is not callable"
     ]
    }
   ],
   "source": [
    "s(1)"
   ]
  },
  {
   "cell_type": "code",
   "execution_count": 135,
   "id": "0c7a1974-5e96-46aa-ae6a-b46ce9d4019d",
   "metadata": {},
   "outputs": [
    {
     "data": {
      "text/plain": [
       "str"
      ]
     },
     "execution_count": 135,
     "metadata": {},
     "output_type": "execute_result"
    }
   ],
   "source": [
    "type(s)"
   ]
  },
  {
   "cell_type": "code",
   "execution_count": 137,
   "id": "4dcde649-9d2e-4aef-a156-2aa371f08bf8",
   "metadata": {},
   "outputs": [
    {
     "name": "stdout",
     "output_type": "stream",
     "text": [
      "Hello\n"
     ]
    },
    {
     "ename": "TypeError",
     "evalue": "'NoneType' object is not callable",
     "output_type": "error",
     "traceback": [
      "\u001b[0;31m---------------------------------------------------------------------------\u001b[0m",
      "\u001b[0;31mTypeError\u001b[0m                                 Traceback (most recent call last)",
      "Cell \u001b[0;32mIn[137], line 1\u001b[0m\n\u001b[0;32m----> 1\u001b[0m \u001b[38;5;28mprint\u001b[39m (s)(\u001b[38;5;241m1\u001b[39m)\n",
      "\u001b[0;31mTypeError\u001b[0m: 'NoneType' object is not callable"
     ]
    }
   ],
   "source": [
    "print (s)(1)"
   ]
  },
  {
   "cell_type": "code",
   "execution_count": 139,
   "id": "285dfed3-efb1-4340-8dc3-53bcb53a5bbb",
   "metadata": {},
   "outputs": [
    {
     "name": "stdout",
     "output_type": "stream",
     "text": [
      "Hello\n"
     ]
    },
    {
     "ename": "TypeError",
     "evalue": "'NoneType' object is not callable",
     "output_type": "error",
     "traceback": [
      "\u001b[0;31m---------------------------------------------------------------------------\u001b[0m",
      "\u001b[0;31mTypeError\u001b[0m                                 Traceback (most recent call last)",
      "Cell \u001b[0;32mIn[139], line 1\u001b[0m\n\u001b[0;32m----> 1\u001b[0m \u001b[38;5;28mprint\u001b[39m(s)(\u001b[38;5;241m1\u001b[39m)\n",
      "\u001b[0;31mTypeError\u001b[0m: 'NoneType' object is not callable"
     ]
    }
   ],
   "source": [
    "print(s)(1)"
   ]
  },
  {
   "cell_type": "code",
   "execution_count": 141,
   "id": "dbedeea1-f544-4da9-a98c-ae33915631ab",
   "metadata": {},
   "outputs": [
    {
     "ename": "NameError",
     "evalue": "name 'string' is not defined",
     "output_type": "error",
     "traceback": [
      "\u001b[0;31m---------------------------------------------------------------------------\u001b[0m",
      "\u001b[0;31mNameError\u001b[0m                                 Traceback (most recent call last)",
      "Cell \u001b[0;32mIn[141], line 1\u001b[0m\n\u001b[0;32m----> 1\u001b[0m string(\u001b[38;5;241m1\u001b[39m)\n",
      "\u001b[0;31mNameError\u001b[0m: name 'string' is not defined"
     ]
    }
   ],
   "source": [
    "string(1)"
   ]
  },
  {
   "cell_type": "code",
   "execution_count": 143,
   "id": "1e37238c-5d7b-468b-a38f-d3566d2e2b70",
   "metadata": {},
   "outputs": [
    {
     "name": "stdout",
     "output_type": "stream",
     "text": [
      "e\n"
     ]
    }
   ],
   "source": [
    "print(s[1])"
   ]
  },
  {
   "cell_type": "code",
   "execution_count": 145,
   "id": "508ea525-9c4c-4317-b0bf-4c00664271a7",
   "metadata": {},
   "outputs": [
    {
     "name": "stdout",
     "output_type": "stream",
     "text": [
      "o\n"
     ]
    }
   ],
   "source": [
    "print(s[4:])"
   ]
  },
  {
   "cell_type": "code",
   "execution_count": 149,
   "id": "1636c73b-ca01-4cd0-8e5c-7cec0f88bbc5",
   "metadata": {},
   "outputs": [
    {
     "name": "stdout",
     "output_type": "stream",
     "text": [
      "Hello\n"
     ]
    }
   ],
   "source": [
    "print(s[:5])"
   ]
  },
  {
   "cell_type": "code",
   "execution_count": 151,
   "id": "d8f5f0e4-40d1-4381-a8cb-e92cfc8967bb",
   "metadata": {},
   "outputs": [
    {
     "name": "stdout",
     "output_type": "stream",
     "text": [
      "o\n"
     ]
    }
   ],
   "source": [
    "print(s[4])"
   ]
  },
  {
   "cell_type": "code",
   "execution_count": 153,
   "id": "33945da5-f72d-4bb0-a935-bd4bf8766f2f",
   "metadata": {},
   "outputs": [
    {
     "data": {
      "text/plain": [
       "True"
      ]
     },
     "execution_count": 153,
     "metadata": {},
     "output_type": "execute_result"
    }
   ],
   "source": [
    "4 != 5"
   ]
  },
  {
   "cell_type": "code",
   "execution_count": 155,
   "id": "f20f8580-63ae-4cec-920f-78161f1c2efc",
   "metadata": {},
   "outputs": [
    {
     "data": {
      "text/plain": [
       "True"
      ]
     },
     "execution_count": 155,
     "metadata": {},
     "output_type": "execute_result"
    }
   ],
   "source": [
    "4 != 3"
   ]
  },
  {
   "cell_type": "code",
   "execution_count": 157,
   "id": "6d287a1f-b381-457a-b5d1-a714f57c79d0",
   "metadata": {},
   "outputs": [
    {
     "data": {
      "text/plain": [
       "False"
      ]
     },
     "execution_count": 157,
     "metadata": {},
     "output_type": "execute_result"
    }
   ],
   "source": [
    "2 > 4"
   ]
  },
  {
   "cell_type": "code",
   "execution_count": 159,
   "id": "8ab96bea-a4a3-4b24-b86d-a2a4c5ae5d09",
   "metadata": {},
   "outputs": [
    {
     "ename": "SyntaxError",
     "evalue": "cannot assign to literal here. Maybe you meant '==' instead of '='? (2569567291.py, line 1)",
     "output_type": "error",
     "traceback": [
      "\u001b[0;36m  Cell \u001b[0;32mIn[159], line 1\u001b[0;36m\u001b[0m\n\u001b[0;31m    2 = 3\u001b[0m\n\u001b[0m    ^\u001b[0m\n\u001b[0;31mSyntaxError\u001b[0m\u001b[0;31m:\u001b[0m cannot assign to literal here. Maybe you meant '==' instead of '='?\n"
     ]
    }
   ],
   "source": [
    " 2 = 3"
   ]
  },
  {
   "cell_type": "code",
   "execution_count": 161,
   "id": "57276837-f04e-4eb5-80e5-348c8c323c0c",
   "metadata": {},
   "outputs": [
    {
     "data": {
      "text/plain": [
       "False"
      ]
     },
     "execution_count": 161,
     "metadata": {},
     "output_type": "execute_result"
    }
   ],
   "source": [
    "2 == 3"
   ]
  },
  {
   "cell_type": "code",
   "execution_count": 163,
   "id": "a5bf7539-5b75-494a-9182-13dbcf78ace7",
   "metadata": {},
   "outputs": [
    {
     "data": {
      "text/plain": [
       "True"
      ]
     },
     "execution_count": 163,
     "metadata": {},
     "output_type": "execute_result"
    }
   ],
   "source": [
    "3 == 3"
   ]
  },
  {
   "cell_type": "code",
   "execution_count": 165,
   "id": "d13b108b-61e2-4bc2-bbb9-1b506bc08633",
   "metadata": {},
   "outputs": [
    {
     "data": {
      "text/plain": [
       "False"
      ]
     },
     "execution_count": 165,
     "metadata": {},
     "output_type": "execute_result"
    }
   ],
   "source": [
    "5 == 6"
   ]
  },
  {
   "cell_type": "code",
   "execution_count": 167,
   "id": "59869a21-e42f-49bc-b77b-271f18bf36dd",
   "metadata": {},
   "outputs": [
    {
     "data": {
      "text/plain": [
       "True"
      ]
     },
     "execution_count": 167,
     "metadata": {},
     "output_type": "execute_result"
    }
   ],
   "source": [
    "1 == 1 and 3 == 3"
   ]
  },
  {
   "cell_type": "code",
   "execution_count": 169,
   "id": "3518cc3d-ed23-4c45-8177-fc0390db30f4",
   "metadata": {},
   "outputs": [
    {
     "data": {
      "text/plain": [
       "True"
      ]
     },
     "execution_count": 169,
     "metadata": {},
     "output_type": "execute_result"
    }
   ],
   "source": [
    "1 ==1 or 3==2"
   ]
  },
  {
   "cell_type": "code",
   "execution_count": 171,
   "id": "2ce454c9-2e2b-4e82-9ec0-2cc1290c21b0",
   "metadata": {},
   "outputs": [
    {
     "data": {
      "text/plain": [
       "True"
      ]
     },
     "execution_count": 171,
     "metadata": {},
     "output_type": "execute_result"
    }
   ],
   "source": [
    "1 == 1"
   ]
  },
  {
   "cell_type": "code",
   "execution_count": 173,
   "id": "31f9ed50-3153-4bda-abe8-41b8a69e7663",
   "metadata": {},
   "outputs": [
    {
     "data": {
      "text/plain": [
       "False"
      ]
     },
     "execution_count": 173,
     "metadata": {},
     "output_type": "execute_result"
    }
   ],
   "source": [
    "not(1 -- 1)"
   ]
  },
  {
   "cell_type": "code",
   "execution_count": 175,
   "id": "141f4903-6a39-4a1e-bdd0-d19dfa7c3cf0",
   "metadata": {},
   "outputs": [
    {
     "data": {
      "text/plain": [
       "True"
      ]
     },
     "execution_count": 175,
     "metadata": {},
     "output_type": "execute_result"
    }
   ],
   "source": [
    "not 400 > 5000"
   ]
  },
  {
   "cell_type": "code",
   "execution_count": 177,
   "id": "33022d42-eaa5-4a3c-8f43-17b914c7c3ed",
   "metadata": {},
   "outputs": [
    {
     "ename": "NameError",
     "evalue": "name 'true' is not defined",
     "output_type": "error",
     "traceback": [
      "\u001b[0;31m---------------------------------------------------------------------------\u001b[0m",
      "\u001b[0;31mNameError\u001b[0m                                 Traceback (most recent call last)",
      "Cell \u001b[0;32mIn[177], line 1\u001b[0m\n\u001b[0;32m----> 1\u001b[0m sachin \u001b[38;5;241m=\u001b[39m true\n",
      "\u001b[0;31mNameError\u001b[0m: name 'true' is not defined"
     ]
    }
   ],
   "source": [
    "sachin = true"
   ]
  },
  {
   "cell_type": "code",
   "execution_count": 179,
   "id": "5c77ba2f-a40a-450f-982c-645890c166d2",
   "metadata": {},
   "outputs": [
    {
     "name": "stdout",
     "output_type": "stream",
     "text": [
      "god of cricke\n"
     ]
    }
   ],
   "source": [
    "sachin = True\n",
    "\n",
    "if sachin:\n",
    "    print('god of cricket')\n",
    "    "
   ]
  },
  {
   "cell_type": "code",
   "execution_count": 181,
   "id": "8e014904-78ae-4f16-ac99-75aec8b78e22",
   "metadata": {},
   "outputs": [
    {
     "name": "stdout",
     "output_type": "stream",
     "text": [
      "god of cricket\n"
     ]
    }
   ],
   "source": [
    "sachin = True\n",
    "\n",
    "if sachin:\n",
    "    print('god of cricket')"
   ]
  },
  {
   "cell_type": "code",
   "execution_count": 205,
   "id": "3e7a3ca3-3233-4ced-9a49-8946993f4905",
   "metadata": {},
   "outputs": [
    {
     "name": "stdout",
     "output_type": "stream",
     "text": [
      "legend of cricket\n"
     ]
    }
   ],
   "source": [
    "sachin = 'legend'\n",
    "\n",
    "if sachin == 'god' :\n",
    "    print('god of cricket')\n",
    "elif sachin == 'legend':\n",
    "      print('legend of cricket')\n",
    "else:\n",
    "    print('normal cricket player')"
   ]
  },
  {
   "cell_type": "code",
   "execution_count": 207,
   "id": "14b6d78e-5baf-486c-b449-02fec034a4a5",
   "metadata": {},
   "outputs": [],
   "source": [
    "my_list = [1,2,3,4,5,6,7,8,9,10]"
   ]
  },
  {
   "cell_type": "code",
   "execution_count": 209,
   "id": "19f90d5d-070d-4a4c-a566-6500374e23a4",
   "metadata": {},
   "outputs": [
    {
     "ename": "SyntaxError",
     "evalue": "expected ':' (2838259523.py, line 1)",
     "output_type": "error",
     "traceback": [
      "\u001b[0;36m  Cell \u001b[0;32mIn[209], line 1\u001b[0;36m\u001b[0m\n\u001b[0;31m    for num in my_list\u001b[0m\n\u001b[0m                      ^\u001b[0m\n\u001b[0;31mSyntaxError\u001b[0m\u001b[0;31m:\u001b[0m expected ':'\n"
     ]
    }
   ],
   "source": [
    "for num in my_list"
   ]
  },
  {
   "cell_type": "code",
   "execution_count": 211,
   "id": "5a496af6-38f0-474b-bf9d-8d3557b23523",
   "metadata": {},
   "outputs": [
    {
     "name": "stdout",
     "output_type": "stream",
     "text": [
      "1\n",
      "2\n",
      "3\n",
      "4\n",
      "5\n",
      "6\n",
      "7\n",
      "8\n",
      "9\n",
      "10\n"
     ]
    }
   ],
   "source": [
    "for num in my_list:\n",
    "    print(num)"
   ]
  },
  {
   "cell_type": "code",
   "execution_count": 221,
   "id": "4738e3f7-0849-4a8b-9841-ea7f9920eeca",
   "metadata": {},
   "outputs": [
    {
     "name": "stdout",
     "output_type": "stream",
     "text": [
      "Odd Number: 1\n",
      "2\n",
      "Odd Number: 3\n",
      "4\n",
      "Odd Number: 5\n",
      "6\n",
      "Odd Number: 7\n",
      "8\n",
      "Odd Number: 9\n",
      "10\n"
     ]
    }
   ],
   "source": [
    "for num in my_list:\n",
    " if num % 2 == 0:\n",
    "     print(num)\n",
    " else:\n",
    "     print (f'Odd Number: {num}')"
   ]
  },
  {
   "cell_type": "code",
   "execution_count": 223,
   "id": "eaecb13b-a7be-463c-8541-9f5ed092f924",
   "metadata": {},
   "outputs": [
    {
     "name": "stdout",
     "output_type": "stream",
     "text": [
      "2\n",
      "4\n",
      "6\n",
      "8\n",
      "10\n"
     ]
    }
   ],
   "source": [
    "for num in my_list:\n",
    " if num % 2 == 0:\n",
    "     print(num)"
   ]
  },
  {
   "cell_type": "code",
   "execution_count": 237,
   "id": "f56dcb5c-253f-4f15-8a10-72361fc34c2a",
   "metadata": {},
   "outputs": [
    {
     "name": "stdout",
     "output_type": "stream",
     "text": [
      "2\n",
      "4\n",
      "7\n",
      "11\n",
      "16\n",
      "22\n",
      "29\n",
      "37\n",
      "46\n",
      "56\n"
     ]
    }
   ],
   "source": [
    "list_sum = 1\n",
    "\n",
    "for num in my_list:\n",
    "    list_sum = list_sum + num\n",
    "    \n",
    "    print(list_sum)"
   ]
  },
  {
   "cell_type": "code",
   "execution_count": 239,
   "id": "f33c9e5f-68ec-4355-9fd8-7f44bdd5113c",
   "metadata": {},
   "outputs": [
    {
     "name": "stdout",
     "output_type": "stream",
     "text": [
      "2\n",
      "6\n",
      "9\n"
     ]
    }
   ],
   "source": [
    "mylist = [(1,2,3),(5,6,7),(8,9,10)]\n",
    "for a,b,c in mylist:\n",
    "    print(b)"
   ]
  },
  {
   "cell_type": "code",
   "execution_count": 241,
   "id": "413a3419-a9d6-401e-ad09-0d37d95ebcb0",
   "metadata": {},
   "outputs": [],
   "source": [
    "x = 0"
   ]
  },
  {
   "cell_type": "code",
   "execution_count": 247,
   "id": "c4f6e129-4629-43ad-8337-13b49a0369e1",
   "metadata": {},
   "outputs": [
    {
     "name": "stdout",
     "output_type": "stream",
     "text": [
      "The current value of x is 0\n",
      "The current value of x is 1\n",
      "The current value of x is 2\n",
      "The current value of x is 3\n",
      "The current value of x is 4\n",
      "X IS LESS THAN 5\n"
     ]
    }
   ],
   "source": [
    "x = 0\n",
    "while x < 5:\n",
    "     print(f'The current value of x is {x}')\n",
    "     x = x+ 1\n",
    "else:\n",
    "    print(\"X IS LESS THAN 5\")\n",
    "    "
   ]
  },
  {
   "cell_type": "code",
   "execution_count": 249,
   "id": "5464d46b-4353-42d8-ae85-390d057aab43",
   "metadata": {},
   "outputs": [
    {
     "name": "stdout",
     "output_type": "stream",
     "text": [
      "0\n",
      "2\n",
      "4\n",
      "6\n",
      "8\n",
      "10\n"
     ]
    }
   ],
   "source": [
    "for num in range(0,11,2):\n",
    "    print(num)"
   ]
  },
  {
   "cell_type": "code",
   "execution_count": 251,
   "id": "89e2621e-5754-47e4-98e3-1253d2124e39",
   "metadata": {},
   "outputs": [
    {
     "name": "stdout",
     "output_type": "stream",
     "text": [
      "0\n",
      "t\n",
      "\n",
      "\n",
      "1\n",
      "e\n",
      "\n",
      "\n",
      "2\n",
      "j\n",
      "\n",
      "\n",
      "3\n",
      "a\n",
      "\n",
      "\n"
     ]
    }
   ],
   "source": [
    "word = 'teja'\n",
    "\n",
    "for index,letter in enumerate(word):\n",
    "    print(index)\n",
    "    print(letter)\n",
    "    print('\\n')\n",
    "    "
   ]
  },
  {
   "cell_type": "code",
   "execution_count": 253,
   "id": "4e2d8193-bc48-4293-8d6e-12627d95655f",
   "metadata": {},
   "outputs": [],
   "source": [
    "from random import shuffle"
   ]
  },
  {
   "cell_type": "code",
   "execution_count": 255,
   "id": "f655c813-8446-4bf0-8126-be276e0aa25c",
   "metadata": {},
   "outputs": [],
   "source": [
    "mylist = [1,2,3,4,5,6,7,8,9,10]"
   ]
  },
  {
   "cell_type": "code",
   "execution_count": 259,
   "id": "77fb3059-a64e-4866-9dcc-0f715cc6fff4",
   "metadata": {},
   "outputs": [],
   "source": [
    "random_list = shuffle(mylist)"
   ]
  },
  {
   "cell_type": "code",
   "execution_count": 261,
   "id": "a026b0f7-9a5c-4de1-9ad6-fe830cdf39d4",
   "metadata": {},
   "outputs": [
    {
     "ename": "NameError",
     "evalue": "name 'myslist' is not defined",
     "output_type": "error",
     "traceback": [
      "\u001b[0;31m---------------------------------------------------------------------------\u001b[0m",
      "\u001b[0;31mNameError\u001b[0m                                 Traceback (most recent call last)",
      "Cell \u001b[0;32mIn[261], line 1\u001b[0m\n\u001b[0;32m----> 1\u001b[0m myslist\n",
      "\u001b[0;31mNameError\u001b[0m: name 'myslist' is not defined"
     ]
    }
   ],
   "source": [
    "myslist"
   ]
  },
  {
   "cell_type": "code",
   "execution_count": 263,
   "id": "e5b18299-bbec-4db2-a3b9-10d5d92428ee",
   "metadata": {},
   "outputs": [
    {
     "data": {
      "text/plain": [
       "[4, 8, 10, 9, 1, 7, 3, 5, 2, 6]"
      ]
     },
     "execution_count": 263,
     "metadata": {},
     "output_type": "execute_result"
    }
   ],
   "source": [
    "mylist"
   ]
  },
  {
   "cell_type": "code",
   "execution_count": 265,
   "id": "81e2edd7-4da1-463a-982a-fcede489aa7a",
   "metadata": {},
   "outputs": [],
   "source": [
    "from random import randint"
   ]
  },
  {
   "cell_type": "code",
   "execution_count": 267,
   "id": "26a9f9f5-6fd5-49e8-ac14-e198d29d0776",
   "metadata": {},
   "outputs": [
    {
     "data": {
      "text/plain": [
       "91"
      ]
     },
     "execution_count": 267,
     "metadata": {},
     "output_type": "execute_result"
    }
   ],
   "source": [
    "randint(0,100)"
   ]
  },
  {
   "cell_type": "code",
   "execution_count": 269,
   "id": "9a87447c-c5d2-466a-97df-f268f43482ec",
   "metadata": {},
   "outputs": [],
   "source": [
    "mynum = randint(0,10)"
   ]
  },
  {
   "cell_type": "code",
   "execution_count": 271,
   "id": "d9c84cd1-fe90-435b-905f-f86a40ee61df",
   "metadata": {},
   "outputs": [
    {
     "data": {
      "text/plain": [
       "0"
      ]
     },
     "execution_count": 271,
     "metadata": {},
     "output_type": "execute_result"
    }
   ],
   "source": [
    "mynum"
   ]
  },
  {
   "cell_type": "code",
   "execution_count": 273,
   "id": "48b7d638-7b2a-474e-b265-57267628d0ae",
   "metadata": {},
   "outputs": [
    {
     "name": "stdin",
     "output_type": "stream",
     "text": [
      "Enter a number here:  50\n"
     ]
    },
    {
     "data": {
      "text/plain": [
       "'50'"
      ]
     },
     "execution_count": 273,
     "metadata": {},
     "output_type": "execute_result"
    }
   ],
   "source": [
    "input('Enter a number here: ')"
   ]
  },
  {
   "cell_type": "code",
   "execution_count": 279,
   "id": "95980d70-b539-4994-b3cf-a2ce1ee9eb17",
   "metadata": {},
   "outputs": [
    {
     "name": "stdout",
     "output_type": "stream",
     "text": [
      "item\n",
      "item\n",
      "item\n",
      "item\n",
      "item\n",
      "item\n",
      "item\n",
      "item\n",
      "item\n",
      "item\n",
      "item\n",
      "item\n",
      "item\n",
      "item\n",
      "item\n",
      "item\n",
      "item\n",
      "item\n",
      "item\n",
      "item\n",
      "item\n",
      "item\n",
      "item\n",
      "item\n",
      "item\n",
      "item\n",
      "item\n",
      "item\n",
      "item\n",
      "item\n",
      "item\n",
      "item\n",
      "item\n",
      "item\n",
      "item\n",
      "item\n",
      "item\n",
      "item\n",
      "item\n",
      "item\n",
      "item\n",
      "item\n",
      "item\n",
      "item\n",
      "item\n",
      "item\n",
      "item\n",
      "item\n",
      "item\n",
      "item\n",
      "item\n",
      "item\n",
      "item\n",
      "item\n",
      "item\n"
     ]
    }
   ],
   "source": [
    "st = 'Print only the words that start with s in this sentence'\n",
    "\n",
    "for _ in st:\n",
    "    print('item')"
   ]
  },
  {
   "cell_type": "code",
   "execution_count": 281,
   "id": "cfaf0a55-8a6d-4e92-b0b2-bd6771649c4e",
   "metadata": {},
   "outputs": [
    {
     "name": "stdout",
     "output_type": "stream",
     "text": [
      "st\n",
      "st\n",
      "st\n",
      "st\n",
      "st\n",
      "st\n",
      "st\n",
      "st\n",
      "st\n",
      "st\n",
      "st\n",
      "st\n",
      "st\n",
      "st\n",
      "st\n",
      "st\n",
      "st\n",
      "st\n",
      "st\n",
      "st\n",
      "st\n",
      "st\n",
      "st\n",
      "st\n",
      "st\n",
      "st\n",
      "st\n",
      "st\n",
      "st\n",
      "st\n",
      "st\n",
      "st\n",
      "st\n",
      "st\n",
      "st\n",
      "st\n",
      "st\n",
      "st\n",
      "st\n",
      "st\n",
      "st\n",
      "st\n",
      "st\n",
      "st\n",
      "st\n",
      "st\n",
      "st\n",
      "st\n",
      "st\n",
      "st\n",
      "st\n",
      "st\n",
      "st\n",
      "st\n",
      "st\n"
     ]
    }
   ],
   "source": [
    "st = 'Print only the words that start with s in this sentence'\n",
    "\n",
    "for item in st:\n",
    "    print('st')"
   ]
  },
  {
   "cell_type": "code",
   "execution_count": 306,
   "id": "f7c095aa-01f3-4312-828c-9439664a13aa",
   "metadata": {},
   "outputs": [
    {
     "name": "stdout",
     "output_type": "stream",
     "text": [
      "word\n",
      "word\n",
      "word\n"
     ]
    }
   ],
   "source": [
    "st = 'Print only the words that start with s in this sentence'\n",
    "\n",
    "for word in st.split():\n",
    "    if word[0] == 's':\n",
    "     print('word')"
   ]
  },
  {
   "cell_type": "code",
   "execution_count": 308,
   "id": "676dcb17-7eec-4ff3-97f8-81da365c3e5d",
   "metadata": {},
   "outputs": [],
   "source": [
    "st = 'Print only the words that start with s in this sentence'"
   ]
  },
  {
   "cell_type": "code",
   "execution_count": 310,
   "id": "37e52b03-e93f-423f-aebe-53bf52c997a6",
   "metadata": {},
   "outputs": [
    {
     "data": {
      "text/plain": [
       "['Print',\n",
       " 'only',\n",
       " 'the',\n",
       " 'words',\n",
       " 'that',\n",
       " 'start',\n",
       " 'with',\n",
       " 's',\n",
       " 'in',\n",
       " 'this',\n",
       " 'sentence']"
      ]
     },
     "execution_count": 310,
     "metadata": {},
     "output_type": "execute_result"
    }
   ],
   "source": [
    "st.split()"
   ]
  },
  {
   "cell_type": "code",
   "execution_count": 318,
   "id": "f00461e4-20dd-4297-a2f3-ca716e91632e",
   "metadata": {},
   "outputs": [
    {
     "name": "stdout",
     "output_type": "stream",
     "text": [
      "start\n",
      "s\n",
      "sentence\n"
     ]
    }
   ],
   "source": [
    "for word in st.split():\n",
    "    if word[0] == 's':\n",
    "       print(word)"
   ]
  },
  {
   "cell_type": "code",
   "execution_count": 320,
   "id": "7dc05382-0cee-4c3e-9530-45c11888bbf2",
   "metadata": {},
   "outputs": [],
   "source": [
    "mylist = [1,2,3]"
   ]
  },
  {
   "cell_type": "code",
   "execution_count": 324,
   "id": "578eb338-f225-4a79-8bac-21dd7c46b8c0",
   "metadata": {},
   "outputs": [],
   "source": [
    "mylist.append(4)"
   ]
  },
  {
   "cell_type": "code",
   "execution_count": 326,
   "id": "00717d38-2915-47de-8cbe-f5f0e966a6e3",
   "metadata": {},
   "outputs": [
    {
     "data": {
      "text/plain": [
       "[1, 2, 3, 4]"
      ]
     },
     "execution_count": 326,
     "metadata": {},
     "output_type": "execute_result"
    }
   ],
   "source": [
    "mylist"
   ]
  },
  {
   "cell_type": "code",
   "execution_count": 328,
   "id": "cbeb49c2-9b58-463b-b13a-4aca583b484f",
   "metadata": {},
   "outputs": [
    {
     "data": {
      "text/plain": [
       "4"
      ]
     },
     "execution_count": 328,
     "metadata": {},
     "output_type": "execute_result"
    }
   ],
   "source": [
    "mylist.pop()"
   ]
  },
  {
   "cell_type": "code",
   "execution_count": 330,
   "id": "4fc54b99-276b-4ea1-98a7-cfda886fe2d5",
   "metadata": {},
   "outputs": [],
   "source": [
    "def say_hello():\n",
    "  print('Hello')"
   ]
  },
  {
   "cell_type": "code",
   "execution_count": 333,
   "id": "ce12b980-b04f-41ee-bab7-337eb99990a5",
   "metadata": {},
   "outputs": [
    {
     "name": "stdout",
     "output_type": "stream",
     "text": [
      "Hello\n"
     ]
    }
   ],
   "source": [
    "say_hello()"
   ]
  },
  {
   "cell_type": "code",
   "execution_count": 337,
   "id": "e88eaa23-be61-4a57-90ac-e3e2d48277ae",
   "metadata": {},
   "outputs": [],
   "source": [
    "def say_hello(teja):\n",
    "  print(f'Hello {'teja'}')"
   ]
  },
  {
   "cell_type": "code",
   "execution_count": 345,
   "id": "c3f9e5b2-a504-4ccb-a3ed-d9978bd13c32",
   "metadata": {},
   "outputs": [
    {
     "name": "stdout",
     "output_type": "stream",
     "text": [
      "Hello teja\n"
     ]
    }
   ],
   "source": [
    "say_hello('sam')"
   ]
  },
  {
   "cell_type": "code",
   "execution_count": 347,
   "id": "266a1e6a-6070-425f-aa4a-79cb028707c6",
   "metadata": {},
   "outputs": [
    {
     "name": "stdout",
     "output_type": "stream",
     "text": [
      "Hello teja\n"
     ]
    }
   ],
   "source": [
    "say_hello('sam')"
   ]
  },
  {
   "cell_type": "code",
   "execution_count": 349,
   "id": "145cc240-5926-48be-baba-d4eecaef1d57",
   "metadata": {},
   "outputs": [],
   "source": [
    "def add_num(num1,num2):\n",
    "    return num1+num2"
   ]
  },
  {
   "cell_type": "code",
   "execution_count": 353,
   "id": "a69f3d77-ff27-4ef0-8d8a-19812c47b0b5",
   "metadata": {},
   "outputs": [
    {
     "data": {
      "text/plain": [
       "50"
      ]
     },
     "execution_count": 353,
     "metadata": {},
     "output_type": "execute_result"
    }
   ],
   "source": [
    "add_num(20,30)"
   ]
  },
  {
   "cell_type": "code",
   "execution_count": 355,
   "id": "8f7a7e50-ad42-4e15-90b1-023c313b6e0b",
   "metadata": {},
   "outputs": [],
   "source": [
    "result = add_num(20,30)"
   ]
  },
  {
   "cell_type": "code",
   "execution_count": 357,
   "id": "1b9fda7f-add6-410d-af6e-3cadab79f7e1",
   "metadata": {},
   "outputs": [
    {
     "data": {
      "text/plain": [
       "50"
      ]
     },
     "execution_count": 357,
     "metadata": {},
     "output_type": "execute_result"
    }
   ],
   "source": [
    "result"
   ]
  },
  {
   "cell_type": "code",
   "execution_count": 359,
   "id": "61d4c606-e97d-4e36-91cc-91a55001fd5e",
   "metadata": {},
   "outputs": [],
   "source": [
    "def even_check(number):\n",
    "    output = number % 2 == 0\n",
    "    return output"
   ]
  },
  {
   "cell_type": "code",
   "execution_count": 365,
   "id": "6c26a41e-f3d8-4252-adb4-ae8d2926f285",
   "metadata": {},
   "outputs": [
    {
     "data": {
      "text/plain": [
       "False"
      ]
     },
     "execution_count": 365,
     "metadata": {},
     "output_type": "execute_result"
    }
   ],
   "source": [
    "even_check(21)"
   ]
  },
  {
   "cell_type": "code",
   "execution_count": 373,
   "id": "10bac5d0-e358-400a-b216-2d01c4cd569d",
   "metadata": {},
   "outputs": [],
   "source": [
    "def even_num_check_list(num_list):\n",
    "    for number in num_list:\n",
    "     if number % 2 == 0:\n",
    "        return True\n",
    "     else:\n",
    "       pass"
   ]
  },
  {
   "cell_type": "code",
   "execution_count": 377,
   "id": "b1d584ea-aa22-43da-8c9d-167e8e71b926",
   "metadata": {},
   "outputs": [],
   "source": [
    "even_num_check_list([1,3,5,9])"
   ]
  },
  {
   "cell_type": "code",
   "execution_count": null,
   "id": "f2d451b4-10bb-49f9-8a91-50fcc0dc4481",
   "metadata": {},
   "outputs": [],
   "source": []
  },
  {
   "cell_type": "code",
   "execution_count": 380,
   "id": "9adb79cf-f642-4ccb-bb19-992067940a43",
   "metadata": {},
   "outputs": [
    {
     "ename": "NameError",
     "evalue": "name 'stock' is not defined",
     "output_type": "error",
     "traceback": [
      "\u001b[0;31m---------------------------------------------------------------------------\u001b[0m",
      "\u001b[0;31mNameError\u001b[0m                                 Traceback (most recent call last)",
      "Cell \u001b[0;32mIn[380], line 1\u001b[0m\n\u001b[0;32m----> 1\u001b[0m stock\n",
      "\u001b[0;31mNameError\u001b[0m: name 'stock' is not defined"
     ]
    }
   ],
   "source": [
    "stock"
   ]
  },
  {
   "cell_type": "code",
   "execution_count": 382,
   "id": "100b6098-2d36-423f-9ba5-094206d1f524",
   "metadata": {},
   "outputs": [],
   "source": [
    "stock_prices= [('APPL',200),('GOOG',400),('MSFT',100)]"
   ]
  },
  {
   "cell_type": "code",
   "execution_count": 384,
   "id": "a1e30ec4-e919-426b-882c-1545441df308",
   "metadata": {},
   "outputs": [
    {
     "name": "stdout",
     "output_type": "stream",
     "text": [
      "('APPL', 200)\n",
      "('GOOG', 400)\n",
      "('MSFT', 100)\n"
     ]
    }
   ],
   "source": [
    "for item in stock_prices:\n",
    "    print(item)"
   ]
  },
  {
   "cell_type": "code",
   "execution_count": 386,
   "id": "1cf9a9e4-4155-4d3a-9b55-c9fa07d22ab5",
   "metadata": {},
   "outputs": [
    {
     "name": "stdout",
     "output_type": "stream",
     "text": [
      "200\n",
      "400\n",
      "100\n"
     ]
    }
   ],
   "source": [
    "for ticker,price in stock_prices:\n",
    "    print(price)"
   ]
  },
  {
   "cell_type": "code",
   "execution_count": 392,
   "id": "7a9243c0-8ea2-4a3b-b0f8-40767f6b486b",
   "metadata": {},
   "outputs": [],
   "source": [
    "work_hours = [('abby',100),('billy',400),('cassie',800)]"
   ]
  },
  {
   "cell_type": "code",
   "execution_count": 394,
   "id": "d37f52bc-614c-477c-b00a-b0f78616732c",
   "metadata": {},
   "outputs": [],
   "source": [
    "def employe_check(work_hours):\n",
    "    current_max = 0\n",
    "    employee_of_month=''\n",
    "    \n",
    "\n",
    "    #Retur\n",
    "    return(employee_of_month,current_max)"
   ]
  },
  {
   "cell_type": "code",
   "execution_count": null,
   "id": "038676b4-7e6b-47c0-8f72-7b0a9b099368",
   "metadata": {},
   "outputs": [],
   "source": [
    "of"
   ]
  }
 ],
 "metadata": {
  "kernelspec": {
   "display_name": "Python 3 (ipykernel)",
   "language": "python",
   "name": "python3"
  },
  "language_info": {
   "codemirror_mode": {
    "name": "ipython",
    "version": 3
   },
   "file_extension": ".py",
   "mimetype": "text/x-python",
   "name": "python",
   "nbconvert_exporter": "python",
   "pygments_lexer": "ipython3",
   "version": "3.12.4"
  }
 },
 "nbformat": 4,
 "nbformat_minor": 5
}
